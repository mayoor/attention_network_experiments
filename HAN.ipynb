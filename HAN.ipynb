{
 "cells": [
  {
   "cell_type": "code",
   "execution_count": 1,
   "metadata": {},
   "outputs": [],
   "source": [
    "import numpy as np \n",
    "import pandas as pd\n",
    "import os"
   ]
  },
  {
   "cell_type": "code",
   "execution_count": 2,
   "metadata": {},
   "outputs": [
    {
     "name": "stderr",
     "output_type": "stream",
     "text": [
      "Using TensorFlow backend.\n"
     ]
    }
   ],
   "source": [
    "from keras.layers import LSTM, Bidirectional, Embedding, Input, Flatten, Dense, BatchNormalization, Dropout, Conv1D, Concatenate, MaxPool1D, AveragePooling1D, GlobalAveragePooling1D, GlobalMaxPool1D, SpatialDropout1D, TimeDistributed, Lambda, Add, Embedding, GRU, CuDNNGRU"
   ]
  },
  {
   "cell_type": "code",
   "execution_count": 3,
   "metadata": {},
   "outputs": [],
   "source": [
    "from keras.layers import Add"
   ]
  },
  {
   "cell_type": "code",
   "execution_count": 4,
   "metadata": {},
   "outputs": [],
   "source": [
    "from keras.optimizers import Adam"
   ]
  },
  {
   "cell_type": "code",
   "execution_count": 5,
   "metadata": {},
   "outputs": [],
   "source": [
    "import keras\n",
    "import tensorflow as tf\n",
    "import keras.backend as K\n",
    "from keras.models import Model"
   ]
  },
  {
   "cell_type": "code",
   "execution_count": 6,
   "metadata": {},
   "outputs": [],
   "source": [
    "from keras.preprocessing.sequence import pad_sequences"
   ]
  },
  {
   "cell_type": "code",
   "execution_count": 7,
   "metadata": {},
   "outputs": [],
   "source": [
    "from keras.utils import plot_model"
   ]
  },
  {
   "cell_type": "code",
   "execution_count": 8,
   "metadata": {},
   "outputs": [],
   "source": [
    "import numpy as np\n",
    "import math"
   ]
  },
  {
   "cell_type": "code",
   "execution_count": 9,
   "metadata": {},
   "outputs": [],
   "source": [
    "import joblib\n",
    "from sklearn.metrics import roc_auc_score"
   ]
  },
  {
   "cell_type": "code",
   "execution_count": 38,
   "metadata": {},
   "outputs": [],
   "source": [
    "class Attention(keras.layers.Layer):\n",
    "    def __init__(self, attn_dim, **kwargs):\n",
    "        self.attn_dim = attn_dim\n",
    "        super(Attention,self).__init__(**kwargs)\n",
    "        \n",
    "    def build(self, input_shape):\n",
    "        self.kernel_w = self.add_weight(name='Ww',\n",
    "                                        shape=(input_shape[-1],self.attn_dim),\n",
    "                                        initializer='uniform',\n",
    "                                        trainable=True\n",
    "                                       )\n",
    "        self.kernel_wb = self.add_weight(name='Wbias', shape=(self.attn_dim,), initializer='zeros',trainable=True)\n",
    "        self.kernel_uw = self.add_weight(name='uw',\n",
    "                                        shape=(self.attn_dim,),\n",
    "                                        initializer='uniform',\n",
    "                                        trainable=True\n",
    "                                       )\n",
    "        super(Attention, self).build( input_shape)\n",
    "    \n",
    "    def compute_mask(self, inputs, mask=None):\n",
    "        return None\n",
    "    \n",
    "    def call(self,hit, mask=None):\n",
    "        print (\"shape of hit is {}\".format(hit.shape))\n",
    "        print (\"shape of kernel_w is {}\".format(self.kernel_w.shape))\n",
    "        print (\"shape of kernel_wb is {}\".format(self.kernel_wb.shape))\n",
    "        print (\"shape of kernel_uw is {}\".format(self.kernel_uw.shape))\n",
    "        print (\"shape of expanded kernel is {}\".format(K.expand_dims(self.kernel_w,0)))\n",
    "        uit = K.squeeze(K.dot(hit,K.expand_dims(K.transpose(self.kernel_w))),axis=-1)\n",
    "\n",
    "        print (\"UIT shape is {}\".format(uit.shape))\n",
    "        uit = K.tanh(uit + self.kernel_wb)\n",
    "\n",
    "        print (\"shape of uit is {}\".format(uit.shape))\n",
    "        alpha_it_num = K.exp(K.squeeze(K.dot( uit,K.expand_dims(self.kernel_uw)),axis=-1))\n",
    "        \n",
    "        \n",
    "        print (\"Shape of alpha_num is {}\".format(alpha_it_num.shape))\n",
    "        if mask is not None:\n",
    "            alpha_it_num *= K.cast(mask,K.floatx())\n",
    "            \n",
    "        print (\"Shape of alpha_num after mask multiplication {}\".format(alpha_it_num.shape))\n",
    "        \n",
    "        alpha_it = alpha_it_num/K.cast((K.sum(alpha_it_num, axis=1, keepdims=True)+K.epsilon()),K.floatx())\n",
    "\n",
    "        print (\"shape of alpha_it is {}\".format(alpha_it.shape))\n",
    "        si = hit*K.expand_dims(alpha_it,2)\n",
    "        print (\"shape of si is {}\".format(si.shape))\n",
    "        si = K.sum(si, axis=1)\n",
    "#         si = K.cast(K.sum(alpha_it_num, axis=1, keepdims=True),K.floatx())\n",
    "        print (\"shape of si after sum is {}\".format(si.shape))\n",
    "        return si\n",
    "    \n",
    "    def compute_output_shape(self,input_shape):\n",
    "        return(input_shape[0],input_shape[-1])"
   ]
  },
  {
   "cell_type": "code",
   "execution_count": 39,
   "metadata": {},
   "outputs": [],
   "source": [
    "# embedding = joblib.load('/Users/mayoor/dev/kaggle/tc/embedding')"
   ]
  },
  {
   "cell_type": "code",
   "execution_count": 40,
   "metadata": {},
   "outputs": [],
   "source": [
    "# tokenizer = joblib.load('/Users/mayoor/dev/kaggle/tc/tokenizer')"
   ]
  },
  {
   "cell_type": "code",
   "execution_count": 41,
   "metadata": {},
   "outputs": [],
   "source": [
    "maxlen = 200"
   ]
  },
  {
   "cell_type": "code",
   "execution_count": 42,
   "metadata": {},
   "outputs": [],
   "source": [
    "def get_model(n_classes=1, maxlen=200):\n",
    "    input = Input(shape=(maxlen,))\n",
    "    x = Embedding(input_dim=embedding.shape[0], output_dim=embedding.shape[1], input_length=maxlen, weights=[embedding], trainable=False, mask_zero=True)(input)\n",
    "#     x = SpatialDropout1D(0.3)(x)\n",
    "    hit = Bidirectional(GRU(128, return_sequences=True))(x)\n",
    "    attn_vec = Attention(128)(hit)\n",
    "    output = Dense(128,activation='relu')(attn_vec)\n",
    "    output = Dropout(0.2)(output)\n",
    "    output = Dense(32,activation='relu')(output)\n",
    "    output = Dropout(0.2)(output)\n",
    "    output = Dense(n_classes, activation='sigmoid')(output)\n",
    "    model = Model(input, output)\n",
    "    return model"
   ]
  },
  {
   "cell_type": "code",
   "execution_count": 43,
   "metadata": {},
   "outputs": [
    {
     "name": "stdout",
     "output_type": "stream",
     "text": [
      "shape of hit is (?, ?, 256)\n",
      "shape of kernel_w is (256, 128)\n",
      "shape of kernel_wb is (128,)\n",
      "shape of kernel_uw is (128,)\n",
      "shape of expanded kernel is Tensor(\"attention_2/ExpandDims:0\", shape=(1, 256, 128), dtype=float32)\n",
      "UIT shape is (?, 200, 128)\n",
      "shape of uit is (?, 200, 128)\n",
      "Shape of alpha_num is (?, 200)\n",
      "Shape of alpha_num after mask multiplication (?, 200)\n",
      "shape of alpha_it is (?, 200)\n",
      "shape of si is (?, 200, 256)\n",
      "shape of si after sum is (?, 256)\n"
     ]
    }
   ],
   "source": [
    "model = get_model(maxlen=200)"
   ]
  },
  {
   "cell_type": "code",
   "execution_count": 55,
   "metadata": {},
   "outputs": [
    {
     "name": "stdout",
     "output_type": "stream",
     "text": [
      "_________________________________________________________________\n",
      "Layer (type)                 Output Shape              Param #   \n",
      "=================================================================\n",
      "input_3 (InputLayer)         (None, 200)               0         \n",
      "_________________________________________________________________\n",
      "embedding_2 (Embedding)      (None, 200, 300)          191911200 \n",
      "_________________________________________________________________\n",
      "bidirectional_2 (Bidirection (None, 200, 256)          329472    \n",
      "_________________________________________________________________\n",
      "attention_2 (Attention)      (None, 256)               33024     \n",
      "_________________________________________________________________\n",
      "dense_4 (Dense)              (None, 128)               32896     \n",
      "_________________________________________________________________\n",
      "dropout_3 (Dropout)          (None, 128)               0         \n",
      "_________________________________________________________________\n",
      "dense_5 (Dense)              (None, 32)                4128      \n",
      "_________________________________________________________________\n",
      "dropout_4 (Dropout)          (None, 32)                0         \n",
      "_________________________________________________________________\n",
      "dense_6 (Dense)              (None, 1)                 33        \n",
      "=================================================================\n",
      "Total params: 192,310,753\n",
      "Trainable params: 399,553\n",
      "Non-trainable params: 191,911,200\n",
      "_________________________________________________________________\n"
     ]
    }
   ],
   "source": [
    "model.summary()"
   ]
  },
  {
   "cell_type": "code",
   "execution_count": 45,
   "metadata": {},
   "outputs": [],
   "source": [
    "keras.utils.plot_model(model, 'han.png')"
   ]
  },
  {
   "cell_type": "code",
   "execution_count": 46,
   "metadata": {},
   "outputs": [
    {
     "data": {
      "image/png": "[encoded data removed]",
      "text/plain": [
       "<IPython.core.display.Image object>"
      ]
     },
     "execution_count": 46,
     "metadata": {},
     "output_type": "execute_result"
    }
   ],
   "source": [
    "from IPython import display\n",
    "display.Image('han.png')"
   ]
  },
  {
   "cell_type": "code",
   "execution_count": 24,
   "metadata": {},
   "outputs": [],
   "source": [
    "train_data = pd.read_csv('../kaggle/tc/train.csv')\n",
    "import re\n",
    "train_data['comment_text'] = train_data['comment_text'].apply(lambda x: re.sub('[0-9]','',x))\n",
    "train_data['comment_text'] = train_data['comment_text'].apply(lambda x: x.replace(',',' , '))\n",
    "train_data['comment_text'] = train_data['comment_text'].apply(lambda x: x.replace('.',' . '))\n",
    "train_data['comment_text'] = train_data['comment_text'].apply(lambda x: x.replace(':',' : '))\n",
    "train_data['comment_text'] = train_data['comment_text'].apply(lambda x: x.replace('!',' ! '))"
   ]
  },
  {
   "cell_type": "code",
   "execution_count": 25,
   "metadata": {},
   "outputs": [],
   "source": [
    "from sklearn.model_selection import train_test_split"
   ]
  },
  {
   "cell_type": "code",
   "execution_count": 26,
   "metadata": {},
   "outputs": [],
   "source": [
    "train_data = train_data[['comment_text','toxic']]"
   ]
  },
  {
   "cell_type": "code",
   "execution_count": 27,
   "metadata": {},
   "outputs": [],
   "source": [
    "train_comment, test_comment, trainy, testy = train_test_split(train_data['comment_text'].tolist(), train_data['toxic'].tolist(), test_size=0.2)"
   ]
  },
  {
   "cell_type": "code",
   "execution_count": 28,
   "metadata": {},
   "outputs": [],
   "source": [
    "train = pad_sequences(tokenizer.texts_to_sequences(train_comment), 200)\n",
    "test = pad_sequences(tokenizer.texts_to_sequences(test_comment), 200)"
   ]
  },
  {
   "cell_type": "code",
   "execution_count": 29,
   "metadata": {},
   "outputs": [],
   "source": [
    "# train, test, trainy, testy = train_test_split(seqeuence_data, train_data['toxic'].tolist(), test_size=0.2)"
   ]
  },
  {
   "cell_type": "code",
   "execution_count": 30,
   "metadata": {},
   "outputs": [
    {
     "name": "stdout",
     "output_type": "stream",
     "text": [
      "Total dataset rows: 159571\n",
      "The train size is 127656 and the test size is 31915\n"
     ]
    }
   ],
   "source": [
    "print (\"Total dataset rows: {}\".format(len(train_data)))\n",
    "print (\"The train size is {} and the test size is {}\".format(len(train), len(test)))"
   ]
  },
  {
   "cell_type": "code",
   "execution_count": 31,
   "metadata": {},
   "outputs": [
    {
     "name": "stdout",
     "output_type": "stream",
     "text": [
      "The data size is 121.74301147460938 MB\n"
     ]
    }
   ],
   "source": [
    "print (\"The data size is {} MB\".format((train.nbytes/(1024*1024)+test.nbytes/(1024*1024))))"
   ]
  },
  {
   "cell_type": "code",
   "execution_count": 496,
   "metadata": {},
   "outputs": [
    {
     "data": {
      "text/plain": [
       "array([[0.30005792],\n",
       "       [0.0229266 ],\n",
       "       [0.99661523]], dtype=float32)"
      ]
     },
     "execution_count": 496,
     "metadata": {},
     "output_type": "execute_result"
    }
   ],
   "source": [
    "model.predict(np.array(pad_sequences(tokenizer.texts_to_sequences([\"i like you\",\"aaa\",\"i hate you\"]),200)),batch_size=1)"
   ]
  },
  {
   "cell_type": "code",
   "execution_count": 497,
   "metadata": {},
   "outputs": [
    {
     "data": {
      "text/plain": [
       "array([[0.30005792],\n",
       "       [0.0229266 ],\n",
       "       [0.99661523]], dtype=float32)"
      ]
     },
     "execution_count": 497,
     "metadata": {},
     "output_type": "execute_result"
    }
   ],
   "source": [
    "model.predict(np.array(pad_sequences(tokenizer.texts_to_sequences([\"i like you\",\"aaa\",\"i hate you\"]),200)),batch_size=1)"
   ]
  },
  {
   "cell_type": "code",
   "execution_count": 36,
   "metadata": {},
   "outputs": [
    {
     "data": {
      "text/plain": [
       "array([[0.54877365]], dtype=float32)"
      ]
     },
     "execution_count": 36,
     "metadata": {},
     "output_type": "execute_result"
    }
   ],
   "source": [
    "model.predict(np.array(pad_sequences(tokenizer.texts_to_sequences([\"i like you\"]),200)))"
   ]
  },
  {
   "cell_type": "code",
   "execution_count": 47,
   "metadata": {},
   "outputs": [
    {
     "name": "stdout",
     "output_type": "stream",
     "text": [
      "Train on 127656 samples, validate on 31915 samples\n",
      "Epoch 1/10\n",
      "127656/127656 [==============================] - 728s 6ms/step - loss: 0.1524 - acc: 0.9461 - val_loss: 0.0981 - val_acc: 0.9620\n",
      "Epoch 2/10\n",
      "127656/127656 [==============================] - 725s 6ms/step - loss: 0.0962 - acc: 0.9641 - val_loss: 0.0937 - val_acc: 0.9640\n",
      "Epoch 3/10\n",
      "127656/127656 [==============================] - 714s 6ms/step - loss: 0.0884 - acc: 0.9666 - val_loss: 0.0956 - val_acc: 0.9633\n",
      "Epoch 4/10\n",
      "127656/127656 [==============================] - 703s 6ms/step - loss: 0.0835 - acc: 0.9682 - val_loss: 0.0872 - val_acc: 0.9657\n",
      "Epoch 5/10\n",
      "127656/127656 [==============================] - 713s 6ms/step - loss: 0.0793 - acc: 0.9704 - val_loss: 0.0889 - val_acc: 0.9642\n",
      "Epoch 6/10\n",
      "127656/127656 [==============================] - 712s 6ms/step - loss: 0.0728 - acc: 0.9722 - val_loss: 0.0920 - val_acc: 0.9657\n",
      "Epoch 7/10\n",
      "127656/127656 [==============================] - 712s 6ms/step - loss: 0.0669 - acc: 0.9746 - val_loss: 0.0951 - val_acc: 0.9650\n",
      "Epoch 8/10\n",
      "127656/127656 [==============================] - 743s 6ms/step - loss: 0.0598 - acc: 0.9768 - val_loss: 0.0997 - val_acc: 0.9637\n",
      "Epoch 9/10\n",
      "127656/127656 [==============================] - 716s 6ms/step - loss: 0.0511 - acc: 0.9805 - val_loss: 0.1114 - val_acc: 0.9634\n",
      "Epoch 10/10\n",
      "127656/127656 [==============================] - 712s 6ms/step - loss: 0.0435 - acc: 0.9831 - val_loss: 0.1190 - val_acc: 0.9589\n"
     ]
    },
    {
     "data": {
      "text/plain": [
       "<keras.callbacks.History at 0x1d9531518>"
      ]
     },
     "execution_count": 47,
     "metadata": {},
     "output_type": "execute_result"
    }
   ],
   "source": [
    "model.compile(loss = 'binary_crossentropy', optimizer='adam', metrics=['acc'])\n",
    "model.fit(x=train, y=trainy, validation_data=(test,testy), epochs=10, batch_size=1024)"
   ]
  },
  {
   "cell_type": "code",
   "execution_count": 48,
   "metadata": {},
   "outputs": [],
   "source": [
    "def prepare_to_compute_attention(model):\n",
    "    hit_model = Model(model.input, model.layers[2].output)\n",
    "    return hit_model, model.layers[3]"
   ]
  },
  {
   "cell_type": "code",
   "execution_count": 49,
   "metadata": {},
   "outputs": [],
   "source": [
    "hit_model, trained_attn = prepare_to_compute_attention(model)"
   ]
  },
  {
   "cell_type": "code",
   "execution_count": 50,
   "metadata": {},
   "outputs": [
    {
     "name": "stdout",
     "output_type": "stream",
     "text": [
      "_________________________________________________________________\n",
      "Layer (type)                 Output Shape              Param #   \n",
      "=================================================================\n",
      "input_3 (InputLayer)         (None, 200)               0         \n",
      "_________________________________________________________________\n",
      "embedding_2 (Embedding)      (None, 200, 300)          191911200 \n",
      "_________________________________________________________________\n",
      "bidirectional_2 (Bidirection (None, 200, 256)          329472    \n",
      "=================================================================\n",
      "Total params: 192,240,672\n",
      "Trainable params: 329,472\n",
      "Non-trainable params: 191,911,200\n",
      "_________________________________________________________________\n"
     ]
    }
   ],
   "source": [
    "hit_model.summary()"
   ]
  },
  {
   "cell_type": "code",
   "execution_count": 364,
   "metadata": {},
   "outputs": [],
   "source": [
    "def compute_attention(hit_model, trained_attn, text,maxlen=200, model=None, top_n_words=None):\n",
    "    unpadded_seq = tokenizer.texts_to_sequences([text])\n",
    "    text_seq = pad_sequences(unpadded_seq, maxlen)\n",
    "\n",
    "    hit = hit_model.predict(text_seq)\n",
    "    uit = np.tanh(np.dot(hit,trained_attn.get_weights()[0]) + trained_attn.get_weights()[1])\n",
    "\n",
    "    alpha_it_num = np.exp(np.dot( uit,trained_attn.get_weights()[2]))\n",
    "\n",
    "    \n",
    "    alpha_it = np.squeeze(alpha_it_num/np.sum(alpha_it_num), axis=0)\n",
    "    \n",
    "    rank = np.argsort(alpha_it)[::-1]\n",
    "    if top_n_words and top_n_words > -1:\n",
    "        rank = rank[:top_n_words]\n",
    "    elif top_n_words is None:\n",
    "        rank = rank[:len(unpadded_seq[0])]\n",
    "\n",
    "    words_index = [text_seq[0][i] for i in rank]\n",
    "    ranked_words = [tokenizer.index_word[i] if i > 0 else \"PAD\" for i in words_index]\n",
    "    ranked_scores = [alpha_it[i] for i in rank]\n",
    "    word_score = zip(ranked_words, ranked_scores)\n",
    "    print (\"Input sentence is: {}\".format(text))\n",
    "    print (\"-\"*43+\"Sentence Scores\"+\"-\"*43)\n",
    "    for word, score in word_score:\n",
    "        print (\"{}  -> Score: {}\".format(word, score))\n",
    "    print (\"-\"*100)\n",
    "    \n",
    "    if model:\n",
    "        return model.predict(text_seq)"
   ]
  },
  {
   "cell_type": "code",
   "execution_count": 504,
   "metadata": {},
   "outputs": [
    {
     "data": {
      "text/plain": [
       "'Hey .  .  .  what is it .  . \\n@ | talk  . \\nWhat is it .  .  .  an exclusive group of some WP TALIBANS .  .  . who are good at destroying ,  self-appointed purist who GANG UP any one who asks them questions abt their ANTI-SOCIAL and DESTRUCTIVE (non)-contribution at WP?\\n\\nAsk Sityush to clean up his behavior than issue me nonsensical warnings .  .  . '"
      ]
     },
     "execution_count": 504,
     "metadata": {},
     "output_type": "execute_result"
    }
   ],
   "source": [
    "train_data[train_data['toxic']==1]['comment_text'].tolist()[1]"
   ]
  },
  {
   "cell_type": "code",
   "execution_count": 506,
   "metadata": {},
   "outputs": [
    {
     "name": "stdout",
     "output_type": "stream",
     "text": [
      "Input sentence is: Hey .  .  .  what is it .  . \n",
      "@ | talk  . \n",
      "What is it .  .  .  an exclusive group of some WP TALIBANS .  .  . who are good at destroying ,  self-appointed purist who GANG UP any one who asks them questions abt their ANTI-SOCIAL and DESTRUCTIVE (non)-contribution at WP?\n",
      "\n",
      "Ask Sityush to clean up his behavior than issue me nonsensical warnings .  .  . \n",
      "-------------------------------------------Sentence Scores-------------------------------------------\n",
      "talibans  -> Score: 0.7511407732963562\n",
      "at  -> Score: 0.013073247857391834\n",
      "nonsensical  -> Score: 0.011769592761993408\n",
      "talk  -> Score: 0.0043888576328754425\n",
      "at  -> Score: 0.0037656757049262524\n",
      "some  -> Score: 0.0036290381103754044\n",
      "of  -> Score: 0.003239171579480171\n",
      "contribution  -> Score: 0.0029533621855080128\n",
      "wp  -> Score: 0.002878199564293027\n",
      ".  -> Score: 0.0020450653973966837\n",
      "it  -> Score: 0.0020295819267630577\n",
      "what  -> Score: 0.002007527742534876\n",
      "self  -> Score: 0.0017975852824747562\n",
      ".  -> Score: 0.0017473032930865884\n",
      ".  -> Score: 0.001677555963397026\n",
      "asks  -> Score: 0.0015586658846586943\n",
      ".  -> Score: 0.0015581878833472729\n",
      "hey  -> Score: 0.0013052853755652905\n",
      "PAD  -> Score: 0.0012871334329247475\n",
      "PAD  -> Score: 0.0012871334329247475\n",
      "PAD  -> Score: 0.0012871334329247475\n",
      "PAD  -> Score: 0.0012871334329247475\n",
      "PAD  -> Score: 0.0012871334329247475\n",
      "PAD  -> Score: 0.0012871334329247475\n",
      "PAD  -> Score: 0.0012871334329247475\n",
      "PAD  -> Score: 0.0012871334329247475\n",
      "PAD  -> Score: 0.0012871334329247475\n",
      "PAD  -> Score: 0.0012871334329247475\n",
      "PAD  -> Score: 0.0012871334329247475\n",
      "PAD  -> Score: 0.0012871334329247475\n",
      "PAD  -> Score: 0.0012871334329247475\n",
      "PAD  -> Score: 0.0012871334329247475\n",
      "PAD  -> Score: 0.0012871334329247475\n",
      "PAD  -> Score: 0.0012871334329247475\n",
      "PAD  -> Score: 0.0012871334329247475\n",
      "PAD  -> Score: 0.0012871334329247475\n",
      "PAD  -> Score: 0.0012871334329247475\n",
      "PAD  -> Score: 0.0012871334329247475\n",
      "PAD  -> Score: 0.0012871334329247475\n",
      "PAD  -> Score: 0.0012871334329247475\n",
      "PAD  -> Score: 0.0012871334329247475\n",
      "PAD  -> Score: 0.0012871334329247475\n",
      "PAD  -> Score: 0.0012871334329247475\n",
      "PAD  -> Score: 0.0012871334329247475\n",
      "PAD  -> Score: 0.0012871334329247475\n",
      "PAD  -> Score: 0.0012871334329247475\n",
      "PAD  -> Score: 0.0012871334329247475\n",
      "PAD  -> Score: 0.0012871334329247475\n",
      "PAD  -> Score: 0.0012871334329247475\n",
      "PAD  -> Score: 0.0012871334329247475\n",
      "PAD  -> Score: 0.0012871334329247475\n",
      "PAD  -> Score: 0.0012871334329247475\n",
      "PAD  -> Score: 0.0012871334329247475\n",
      "PAD  -> Score: 0.0012871334329247475\n",
      "PAD  -> Score: 0.0012871334329247475\n",
      "PAD  -> Score: 0.0012871334329247475\n",
      "PAD  -> Score: 0.0012871334329247475\n",
      "PAD  -> Score: 0.0012871334329247475\n",
      "PAD  -> Score: 0.0012871334329247475\n",
      "PAD  -> Score: 0.0012871334329247475\n",
      "PAD  -> Score: 0.0012871334329247475\n",
      "PAD  -> Score: 0.0012871334329247475\n",
      "PAD  -> Score: 0.0012871334329247475\n",
      "PAD  -> Score: 0.0012871334329247475\n",
      "PAD  -> Score: 0.0012871334329247475\n",
      "PAD  -> Score: 0.0012871334329247475\n",
      "PAD  -> Score: 0.0012871334329247475\n",
      "PAD  -> Score: 0.0012871334329247475\n",
      "PAD  -> Score: 0.0012871334329247475\n",
      "PAD  -> Score: 0.0012871334329247475\n",
      "----------------------------------------------------------------------------------------------------\n",
      "Toxicity Confidence is 0.9993577599525452. The sentence is toxic\n"
     ]
    }
   ],
   "source": [
    "pred = compute_attention(hit_model, trained_attn, train_data[train_data['toxic']==1]['comment_text'].tolist()[1], model=model)\n",
    "print (\"Toxicity Confidence is {}. The sentence is {}toxic\".format(pred[0][0], \"not \" if pred < 0.5 else \"\"))"
   ]
  },
  {
   "cell_type": "code",
   "execution_count": 65,
   "metadata": {},
   "outputs": [],
   "source": [
    "prediction = model.predict(test)"
   ]
  },
  {
   "cell_type": "code",
   "execution_count": 66,
   "metadata": {},
   "outputs": [],
   "source": [
    "prediction[prediction<0.5] = 0\n",
    "prediction[prediction>=0.5] = 1"
   ]
  },
  {
   "cell_type": "code",
   "execution_count": 67,
   "metadata": {},
   "outputs": [
    {
     "name": "stdout",
     "output_type": "stream",
     "text": [
      "              precision    recall  f1-score   support\n",
      "\n",
      "           0       0.98      0.97      0.98     28907\n",
      "           1       0.76      0.82      0.79      3008\n",
      "\n",
      "   micro avg       0.96      0.96      0.96     31915\n",
      "   macro avg       0.87      0.90      0.88     31915\n",
      "weighted avg       0.96      0.96      0.96     31915\n",
      "\n"
     ]
    }
   ],
   "source": [
    "from sklearn.metrics import confusion_matrix, classification_report\n",
    "print(classification_report( testy,prediction))"
   ]
  },
  {
   "cell_type": "code",
   "execution_count": 68,
   "metadata": {},
   "outputs": [],
   "source": [
    "correct_preds = np.array(test_comment)"
   ]
  },
  {
   "cell_type": "code",
   "execution_count": 69,
   "metadata": {},
   "outputs": [],
   "source": [
    "correct_preds = correct_preds[prediction.reshape(prediction.shape[0],)==1]"
   ]
  },
  {
   "cell_type": "code",
   "execution_count": 507,
   "metadata": {},
   "outputs": [
    {
     "name": "stdout",
     "output_type": "stream",
     "text": [
      "Input sentence is: You are a coward and a fool . \n",
      "-------------------------------------------Sentence Scores-------------------------------------------\n",
      "coward  -> Score: 0.6398849487304688\n",
      "fool  -> Score: 0.12289978563785553\n",
      "and  -> Score: 0.07871033996343613\n",
      "a  -> Score: 0.06948813796043396\n",
      "a  -> Score: 0.03356339782476425\n",
      "are  -> Score: 0.004199539311230183\n",
      ".  -> Score: 0.0014046343276277184\n",
      "you  -> Score: 0.0005218124715611339\n",
      "----------------------------------------------------------------------------------------------------\n"
     ]
    },
    {
     "data": {
      "text/plain": [
       "array([[0.9994759]], dtype=float32)"
      ]
     },
     "execution_count": 507,
     "metadata": {},
     "output_type": "execute_result"
    }
   ],
   "source": [
    "compute_attention(hit_model, trained_attn, correct_preds[8], model=model)"
   ]
  },
  {
   "cell_type": "code",
   "execution_count": 80,
   "metadata": {},
   "outputs": [
    {
     "data": {
      "text/plain": [
       "'Hello ,  I think you are a fuckwad .  Eat shit and die?'"
      ]
     },
     "execution_count": 80,
     "metadata": {},
     "output_type": "execute_result"
    }
   ],
   "source": [
    "correct_preds[5]"
   ]
  },
  {
   "cell_type": "code",
   "execution_count": 477,
   "metadata": {},
   "outputs": [
    {
     "data": {
      "text/plain": [
       "(1, 200)"
      ]
     },
     "execution_count": 477,
     "metadata": {},
     "output_type": "execute_result"
    }
   ],
   "source": [
    "test[28].reshape(1,200).shape"
   ]
  },
  {
   "cell_type": "code",
   "execution_count": 500,
   "metadata": {},
   "outputs": [
    {
     "data": {
      "text/plain": [
       "1438.5312"
      ]
     },
     "execution_count": 500,
     "metadata": {},
     "output_type": "execute_result"
    }
   ],
   "source": [
    "predict_comment = model.predict(test)\n",
    "predict_comment[predict_comment>=0.5] = 1\n",
    "np.sum(predict_comment)"
   ]
  },
  {
   "cell_type": "code",
   "execution_count": 501,
   "metadata": {},
   "outputs": [
    {
     "data": {
      "text/plain": [
       "1349.0"
      ]
     },
     "execution_count": 501,
     "metadata": {},
     "output_type": "execute_result"
    }
   ],
   "source": [
    "predict_comment[predict_comment<0.5] = 0\n",
    "np.sum(predict_comment)"
   ]
  },
  {
   "cell_type": "markdown",
   "metadata": {},
   "source": [
    "# Sentence Tokenize and Training with Hierarchical Attention Network Architecture"
   ]
  },
  {
   "cell_type": "code",
   "execution_count": 83,
   "metadata": {},
   "outputs": [],
   "source": [
    "from nltk import word_tokenize, sent_tokenize"
   ]
  },
  {
   "cell_type": "code",
   "execution_count": 99,
   "metadata": {},
   "outputs": [
    {
     "data": {
      "text/plain": [
       "3"
      ]
     },
     "execution_count": 99,
     "metadata": {},
     "output_type": "execute_result"
    }
   ],
   "source": [
    "len([word_tokenize(sent) for sent in sent_tokenize(correct_preds[9])])"
   ]
  },
  {
   "cell_type": "code",
   "execution_count": 184,
   "metadata": {},
   "outputs": [],
   "source": [
    "def get_han_model(n_classes=1, wordlen=40, sent_len=5):\n",
    "#     inputs = [Input(shape(wordlen,)) for i in range(sent_len)]\n",
    "#     embd_layer = Embedding(input_dim=embedding.shape[0], output_dim=embedding.shape[1], input_length=maxlen, weights=[embedding], trainable=False, mask_zero=True)\n",
    "#     embds = [embd_layer(inp) for inp in inputs]\n",
    "#     gru_layer = Bidirectional(GRU(128, return_sequences=True))\n",
    "    input = Input(shape=(sent_len,wordlen))\n",
    "    emb_layer = TimeDistributed(Embedding(input_dim=embedding.shape[0], output_dim=embedding.shape[1], input_length=wordlen, weights=[embedding], trainable=False, mask_zero=True))(input)\n",
    "    hit = TimeDistributed( Bidirectional(GRU(128, return_sequences=True)))(emb_layer)\n",
    "    attn_vecs = TimeDistributed(Attention(128))(hit)\n",
    "    \n",
    "    sent_hit = Bidirectional(GRU(128, return_sequences=True))(attn_vecs)\n",
    "    sent_attn_vecs = Attention(128)(sent_hit)\n",
    "    output = Dense(128,activation='relu')(sent_attn_vecs)\n",
    "    output = Dropout(0.2)(output)\n",
    "    output = Dense(32,activation='relu')(output)\n",
    "    output = Dropout(0.2)(output)\n",
    "    output = Dense(n_classes, activation='sigmoid')(output)\n",
    "    model = Model(input, output)\n",
    "    return model"
   ]
  },
  {
   "cell_type": "code",
   "execution_count": 191,
   "metadata": {},
   "outputs": [
    {
     "name": "stdout",
     "output_type": "stream",
     "text": [
      "shape of hit is (?, 40, 256)\n",
      "shape of kernel_w is (256, 128)\n",
      "shape of kernel_wb is (128,)\n",
      "shape of kernel_uw is (128,)\n",
      "shape of expanded kernel is Tensor(\"time_distributed_17/ExpandDims:0\", shape=(1, 256, 128), dtype=float32)\n",
      "UIT shape is (?, 40, 128)\n",
      "shape of uit is (?, 40, 128)\n",
      "Shape of alpha_num is (?, 40)\n",
      "Shape of alpha_num after mask multiplication (?, 40)\n",
      "shape of alpha_it is (?, 40)\n",
      "shape of si is (?, 40, 256)\n",
      "shape of si after sum is (?, 256)\n",
      "shape of hit is (?, ?, 256)\n",
      "shape of kernel_w is (256, 128)\n",
      "shape of kernel_wb is (128,)\n",
      "shape of kernel_uw is (128,)\n",
      "shape of expanded kernel is Tensor(\"attention_12/ExpandDims:0\", shape=(1, 256, 128), dtype=float32)\n",
      "UIT shape is (?, 5, 128)\n",
      "shape of uit is (?, 5, 128)\n",
      "Shape of alpha_num is (?, 5)\n",
      "Shape of alpha_num after mask multiplication (?, 5)\n",
      "shape of alpha_it is (?, 5)\n",
      "shape of si is (?, 5, 256)\n",
      "shape of si after sum is (?, 256)\n"
     ]
    }
   ],
   "source": [
    "han_model = get_han_model(1,40,5)"
   ]
  },
  {
   "cell_type": "code",
   "execution_count": 183,
   "metadata": {},
   "outputs": [],
   "source": [
    "keras.utils.plot_model(han_model, 'full_han.png')"
   ]
  },
  {
   "cell_type": "code",
   "execution_count": 126,
   "metadata": {},
   "outputs": [
    {
     "data": {
      "image/png": "[encoded data removed]",
      "text/plain": [
       "<IPython.core.display.Image object>"
      ]
     },
     "execution_count": 126,
     "metadata": {},
     "output_type": "execute_result"
    }
   ],
   "source": [
    "display.Image('full_han.png')"
   ]
  },
  {
   "cell_type": "code",
   "execution_count": 127,
   "metadata": {},
   "outputs": [
    {
     "name": "stdout",
     "output_type": "stream",
     "text": [
      "_________________________________________________________________\n",
      "Layer (type)                 Output Shape              Param #   \n",
      "=================================================================\n",
      "input_8 (InputLayer)         (None, 5, 40)             0         \n",
      "_________________________________________________________________\n",
      "time_distributed_8 (TimeDist (None, 5, 40, 300)        191911200 \n",
      "_________________________________________________________________\n",
      "time_distributed_9 (TimeDist (None, 5, 40, 256)        329472    \n",
      "_________________________________________________________________\n",
      "time_distributed_10 (TimeDis (None, 5, 256)            33024     \n",
      "_________________________________________________________________\n",
      "bidirectional_8 (Bidirection (None, 5, 256)            295680    \n",
      "_________________________________________________________________\n",
      "attention_8 (Attention)      (None, 256)               33024     \n",
      "_________________________________________________________________\n",
      "dense_12 (Dense)             (None, 128)               32896     \n",
      "_________________________________________________________________\n",
      "dropout_9 (Dropout)          (None, 128)               0         \n",
      "_________________________________________________________________\n",
      "dense_13 (Dense)             (None, 32)                4128      \n",
      "_________________________________________________________________\n",
      "dropout_10 (Dropout)         (None, 32)                0         \n",
      "_________________________________________________________________\n",
      "dense_14 (Dense)             (None, 1)                 33        \n",
      "=================================================================\n",
      "Total params: 192,639,457\n",
      "Trainable params: 192,639,457\n",
      "Non-trainable params: 0\n",
      "_________________________________________________________________\n"
     ]
    }
   ],
   "source": [
    "han_model.summary()"
   ]
  },
  {
   "cell_type": "code",
   "execution_count": 189,
   "metadata": {},
   "outputs": [],
   "source": [
    "def prepare_input(sentences, wordlen=40, sentlen=5):\n",
    "    output = None\n",
    "    for sentence in sentences:\n",
    "        sents = sent_tokenize(sentence)\n",
    "        sents = sents[:sentlen]\n",
    "        while len(sents) < sentlen:\n",
    "            sents.append(\" \")\n",
    "        if output is None:\n",
    "            output = np.expand_dims(pad_sequences(tokenizer.texts_to_sequences(sents),wordlen),0)\n",
    "        else:\n",
    "            output = np.append(output,np.expand_dims(pad_sequences(tokenizer.texts_to_sequences(sents),wordlen),0), axis=0)\n",
    "#     print (output.shape)\n",
    "    return output"
   ]
  },
  {
   "cell_type": "code",
   "execution_count": 194,
   "metadata": {},
   "outputs": [
    {
     "data": {
      "text/plain": [
       "array([[0.99993384]], dtype=float32)"
      ]
     },
     "execution_count": 194,
     "metadata": {},
     "output_type": "execute_result"
    }
   ],
   "source": [
    "han_model.predict(prepare_input([correct_preds[10]]))"
   ]
  },
  {
   "cell_type": "code",
   "execution_count": 134,
   "metadata": {},
   "outputs": [],
   "source": [
    "test_word_vec_model = Model(han_model.input, han_model.layers[3].output)"
   ]
  },
  {
   "cell_type": "code",
   "execution_count": 138,
   "metadata": {},
   "outputs": [
    {
     "data": {
      "text/plain": [
       "array([[[-0.01293012,  0.01512896, -0.00848631, ..., -0.00506174,\n",
       "         -0.00130085,  0.00469162],\n",
       "        [ 0.        ,  0.        ,  0.        , ...,  0.        ,\n",
       "          0.        ,  0.        ],\n",
       "        [ 0.        ,  0.        ,  0.        , ...,  0.        ,\n",
       "          0.        ,  0.        ],\n",
       "        [ 0.        ,  0.        ,  0.        , ...,  0.        ,\n",
       "          0.        ,  0.        ],\n",
       "        [ 0.        ,  0.        ,  0.        , ...,  0.        ,\n",
       "          0.        ,  0.        ]]], dtype=float32)"
      ]
     },
     "execution_count": 138,
     "metadata": {},
     "output_type": "execute_result"
    }
   ],
   "source": [
    "test_word_vec_model.predict(prepare_input(correct_preds[3]).reshape(1,5,40))"
   ]
  },
  {
   "cell_type": "code",
   "execution_count": 176,
   "metadata": {},
   "outputs": [],
   "source": [
    "def generate_data(datax,datay,batch_size):\n",
    "    while True:\n",
    "        indexes = np.random.choice(range(len(datax)), size=batch_size)\n",
    "        X = prepare_input(np.array(datax)[indexes])\n",
    "        Y = np.array(datay)[indexes]\n",
    "        yield X, Y.tolist()"
   ]
  },
  {
   "cell_type": "code",
   "execution_count": 193,
   "metadata": {
    "scrolled": false
   },
   "outputs": [
    {
     "name": "stdout",
     "output_type": "stream",
     "text": [
      "Epoch 1/10\n",
      "499/498 [==============================] - 3706s 7s/step - loss: 0.1256 - acc: 0.9580\n",
      "Epoch 2/10\n",
      "499/498 [==============================] - 3649s 7s/step - loss: 0.0694 - acc: 0.9765A: 2:23 - loss: 0.0701 - acc: 0.976 - ETA: 2:16 - loss: 0.0700 - acc - ETA: 1:17 - loss: 0.\n",
      "Epoch 3/10\n",
      "499/498 [==============================] - 3658s 7s/step - loss: 0.0478 - acc: 0.9840\n",
      "Epoch 4/10\n",
      "499/498 [==============================] - 3646s 7s/step - loss: 0.0338 - acc: 0.9895\n",
      "Epoch 5/10\n",
      "499/498 [==============================] - 3663s 7s/step - loss: 0.0232 - acc: 0.9930A: 56s - loss: 0.0234\n",
      "Epoch 6/10\n",
      "499/498 [==============================] - 3662s 7s/step - loss: 0.0185 - acc: 0.9944A: 11\n",
      "Epoch 7/10\n",
      "499/498 [==============================] - 3739s 7s/step - loss: 0.0145 - acc: 0.9956\n",
      "Epoch 8/10\n",
      "499/498 [==============================] - 3633s 7s/step - loss: 0.0113 - acc: 0.9968\n",
      "Epoch 9/10\n"
     ]
    },
    {
     "ename": "KeyboardInterrupt",
     "evalue": "",
     "output_type": "error",
     "traceback": [
      "\u001b[0;31m---------------------------------------------------------------------------\u001b[0m",
      "\u001b[0;31mKeyboardInterrupt\u001b[0m                         Traceback (most recent call last)",
      "\u001b[0;32m<ipython-input-193-a6e38faa2ca8>\u001b[0m in \u001b[0;36m<module>\u001b[0;34m\u001b[0m\n\u001b[1;32m      1\u001b[0m \u001b[0mhan_model\u001b[0m\u001b[0;34m.\u001b[0m\u001b[0mcompile\u001b[0m\u001b[0;34m(\u001b[0m\u001b[0mloss\u001b[0m \u001b[0;34m=\u001b[0m \u001b[0;34m'binary_crossentropy'\u001b[0m\u001b[0;34m,\u001b[0m \u001b[0moptimizer\u001b[0m\u001b[0;34m=\u001b[0m\u001b[0;34m'adam'\u001b[0m\u001b[0;34m,\u001b[0m \u001b[0mmetrics\u001b[0m\u001b[0;34m=\u001b[0m\u001b[0;34m[\u001b[0m\u001b[0;34m'acc'\u001b[0m\u001b[0;34m]\u001b[0m\u001b[0;34m)\u001b[0m\u001b[0;34m\u001b[0m\u001b[0m\n\u001b[0;32m----> 2\u001b[0;31m \u001b[0mhan_model\u001b[0m\u001b[0;34m.\u001b[0m\u001b[0mfit_generator\u001b[0m\u001b[0;34m(\u001b[0m\u001b[0mgenerate_data\u001b[0m\u001b[0;34m(\u001b[0m\u001b[0mtrain_comment\u001b[0m\u001b[0;34m,\u001b[0m \u001b[0mtrainy\u001b[0m\u001b[0;34m,\u001b[0m\u001b[0;36m256\u001b[0m\u001b[0;34m)\u001b[0m\u001b[0;34m,\u001b[0m  \u001b[0msteps_per_epoch\u001b[0m\u001b[0;34m=\u001b[0m\u001b[0mlen\u001b[0m\u001b[0;34m(\u001b[0m\u001b[0mtrain_comment\u001b[0m\u001b[0;34m)\u001b[0m\u001b[0;34m/\u001b[0m\u001b[0;36m256\u001b[0m\u001b[0;34m,\u001b[0m \u001b[0mepochs\u001b[0m\u001b[0;34m=\u001b[0m\u001b[0;36m10\u001b[0m\u001b[0;34m)\u001b[0m\u001b[0;34m\u001b[0m\u001b[0m\n\u001b[0m",
      "\u001b[0;32m~/dev/kaggle/tc2/tc2/lib/python3.6/site-packages/keras/legacy/interfaces.py\u001b[0m in \u001b[0;36mwrapper\u001b[0;34m(*args, **kwargs)\u001b[0m\n\u001b[1;32m     89\u001b[0m                 warnings.warn('Update your `' + object_name + '` call to the ' +\n\u001b[1;32m     90\u001b[0m                               'Keras 2 API: ' + signature, stacklevel=2)\n\u001b[0;32m---> 91\u001b[0;31m             \u001b[0;32mreturn\u001b[0m \u001b[0mfunc\u001b[0m\u001b[0;34m(\u001b[0m\u001b[0;34m*\u001b[0m\u001b[0margs\u001b[0m\u001b[0;34m,\u001b[0m \u001b[0;34m**\u001b[0m\u001b[0mkwargs\u001b[0m\u001b[0;34m)\u001b[0m\u001b[0;34m\u001b[0m\u001b[0m\n\u001b[0m\u001b[1;32m     92\u001b[0m         \u001b[0mwrapper\u001b[0m\u001b[0;34m.\u001b[0m\u001b[0m_original_function\u001b[0m \u001b[0;34m=\u001b[0m \u001b[0mfunc\u001b[0m\u001b[0;34m\u001b[0m\u001b[0m\n\u001b[1;32m     93\u001b[0m         \u001b[0;32mreturn\u001b[0m \u001b[0mwrapper\u001b[0m\u001b[0;34m\u001b[0m\u001b[0m\n",
      "\u001b[0;32m~/dev/kaggle/tc2/tc2/lib/python3.6/site-packages/keras/engine/training.py\u001b[0m in \u001b[0;36mfit_generator\u001b[0;34m(self, generator, steps_per_epoch, epochs, verbose, callbacks, validation_data, validation_steps, class_weight, max_queue_size, workers, use_multiprocessing, shuffle, initial_epoch)\u001b[0m\n\u001b[1;32m   1416\u001b[0m             \u001b[0muse_multiprocessing\u001b[0m\u001b[0;34m=\u001b[0m\u001b[0muse_multiprocessing\u001b[0m\u001b[0;34m,\u001b[0m\u001b[0;34m\u001b[0m\u001b[0m\n\u001b[1;32m   1417\u001b[0m             \u001b[0mshuffle\u001b[0m\u001b[0;34m=\u001b[0m\u001b[0mshuffle\u001b[0m\u001b[0;34m,\u001b[0m\u001b[0;34m\u001b[0m\u001b[0m\n\u001b[0;32m-> 1418\u001b[0;31m             initial_epoch=initial_epoch)\n\u001b[0m\u001b[1;32m   1419\u001b[0m \u001b[0;34m\u001b[0m\u001b[0m\n\u001b[1;32m   1420\u001b[0m     \u001b[0;34m@\u001b[0m\u001b[0minterfaces\u001b[0m\u001b[0;34m.\u001b[0m\u001b[0mlegacy_generator_methods_support\u001b[0m\u001b[0;34m\u001b[0m\u001b[0m\n",
      "\u001b[0;32m~/dev/kaggle/tc2/tc2/lib/python3.6/site-packages/keras/engine/training_generator.py\u001b[0m in \u001b[0;36mfit_generator\u001b[0;34m(model, generator, steps_per_epoch, epochs, verbose, callbacks, validation_data, validation_steps, class_weight, max_queue_size, workers, use_multiprocessing, shuffle, initial_epoch)\u001b[0m\n\u001b[1;32m    215\u001b[0m                 outs = model.train_on_batch(x, y,\n\u001b[1;32m    216\u001b[0m                                             \u001b[0msample_weight\u001b[0m\u001b[0;34m=\u001b[0m\u001b[0msample_weight\u001b[0m\u001b[0;34m,\u001b[0m\u001b[0;34m\u001b[0m\u001b[0m\n\u001b[0;32m--> 217\u001b[0;31m                                             class_weight=class_weight)\n\u001b[0m\u001b[1;32m    218\u001b[0m \u001b[0;34m\u001b[0m\u001b[0m\n\u001b[1;32m    219\u001b[0m                 \u001b[0mouts\u001b[0m \u001b[0;34m=\u001b[0m \u001b[0mto_list\u001b[0m\u001b[0;34m(\u001b[0m\u001b[0mouts\u001b[0m\u001b[0;34m)\u001b[0m\u001b[0;34m\u001b[0m\u001b[0m\n",
      "\u001b[0;32m~/dev/kaggle/tc2/tc2/lib/python3.6/site-packages/keras/engine/training.py\u001b[0m in \u001b[0;36mtrain_on_batch\u001b[0;34m(self, x, y, sample_weight, class_weight)\u001b[0m\n\u001b[1;32m   1215\u001b[0m             \u001b[0mins\u001b[0m \u001b[0;34m=\u001b[0m \u001b[0mx\u001b[0m \u001b[0;34m+\u001b[0m \u001b[0my\u001b[0m \u001b[0;34m+\u001b[0m \u001b[0msample_weights\u001b[0m\u001b[0;34m\u001b[0m\u001b[0m\n\u001b[1;32m   1216\u001b[0m         \u001b[0mself\u001b[0m\u001b[0;34m.\u001b[0m\u001b[0m_make_train_function\u001b[0m\u001b[0;34m(\u001b[0m\u001b[0;34m)\u001b[0m\u001b[0;34m\u001b[0m\u001b[0m\n\u001b[0;32m-> 1217\u001b[0;31m         \u001b[0moutputs\u001b[0m \u001b[0;34m=\u001b[0m \u001b[0mself\u001b[0m\u001b[0;34m.\u001b[0m\u001b[0mtrain_function\u001b[0m\u001b[0;34m(\u001b[0m\u001b[0mins\u001b[0m\u001b[0;34m)\u001b[0m\u001b[0;34m\u001b[0m\u001b[0m\n\u001b[0m\u001b[1;32m   1218\u001b[0m         \u001b[0;32mreturn\u001b[0m \u001b[0munpack_singleton\u001b[0m\u001b[0;34m(\u001b[0m\u001b[0moutputs\u001b[0m\u001b[0;34m)\u001b[0m\u001b[0;34m\u001b[0m\u001b[0m\n\u001b[1;32m   1219\u001b[0m \u001b[0;34m\u001b[0m\u001b[0m\n",
      "\u001b[0;32m~/dev/kaggle/tc2/tc2/lib/python3.6/site-packages/keras/backend/tensorflow_backend.py\u001b[0m in \u001b[0;36m__call__\u001b[0;34m(self, inputs)\u001b[0m\n\u001b[1;32m   2713\u001b[0m                 \u001b[0;32mreturn\u001b[0m \u001b[0mself\u001b[0m\u001b[0;34m.\u001b[0m\u001b[0m_legacy_call\u001b[0m\u001b[0;34m(\u001b[0m\u001b[0minputs\u001b[0m\u001b[0;34m)\u001b[0m\u001b[0;34m\u001b[0m\u001b[0m\n\u001b[1;32m   2714\u001b[0m \u001b[0;34m\u001b[0m\u001b[0m\n\u001b[0;32m-> 2715\u001b[0;31m             \u001b[0;32mreturn\u001b[0m \u001b[0mself\u001b[0m\u001b[0;34m.\u001b[0m\u001b[0m_call\u001b[0m\u001b[0;34m(\u001b[0m\u001b[0minputs\u001b[0m\u001b[0;34m)\u001b[0m\u001b[0;34m\u001b[0m\u001b[0m\n\u001b[0m\u001b[1;32m   2716\u001b[0m         \u001b[0;32melse\u001b[0m\u001b[0;34m:\u001b[0m\u001b[0;34m\u001b[0m\u001b[0m\n\u001b[1;32m   2717\u001b[0m             \u001b[0;32mif\u001b[0m \u001b[0mpy_any\u001b[0m\u001b[0;34m(\u001b[0m\u001b[0mis_tensor\u001b[0m\u001b[0;34m(\u001b[0m\u001b[0mx\u001b[0m\u001b[0;34m)\u001b[0m \u001b[0;32mfor\u001b[0m \u001b[0mx\u001b[0m \u001b[0;32min\u001b[0m \u001b[0minputs\u001b[0m\u001b[0;34m)\u001b[0m\u001b[0;34m:\u001b[0m\u001b[0;34m\u001b[0m\u001b[0m\n",
      "\u001b[0;32m~/dev/kaggle/tc2/tc2/lib/python3.6/site-packages/keras/backend/tensorflow_backend.py\u001b[0m in \u001b[0;36m_call\u001b[0;34m(self, inputs)\u001b[0m\n\u001b[1;32m   2673\u001b[0m             \u001b[0mfetched\u001b[0m \u001b[0;34m=\u001b[0m \u001b[0mself\u001b[0m\u001b[0;34m.\u001b[0m\u001b[0m_callable_fn\u001b[0m\u001b[0;34m(\u001b[0m\u001b[0;34m*\u001b[0m\u001b[0marray_vals\u001b[0m\u001b[0;34m,\u001b[0m \u001b[0mrun_metadata\u001b[0m\u001b[0;34m=\u001b[0m\u001b[0mself\u001b[0m\u001b[0;34m.\u001b[0m\u001b[0mrun_metadata\u001b[0m\u001b[0;34m)\u001b[0m\u001b[0;34m\u001b[0m\u001b[0m\n\u001b[1;32m   2674\u001b[0m         \u001b[0;32melse\u001b[0m\u001b[0;34m:\u001b[0m\u001b[0;34m\u001b[0m\u001b[0m\n\u001b[0;32m-> 2675\u001b[0;31m             \u001b[0mfetched\u001b[0m \u001b[0;34m=\u001b[0m \u001b[0mself\u001b[0m\u001b[0;34m.\u001b[0m\u001b[0m_callable_fn\u001b[0m\u001b[0;34m(\u001b[0m\u001b[0;34m*\u001b[0m\u001b[0marray_vals\u001b[0m\u001b[0;34m)\u001b[0m\u001b[0;34m\u001b[0m\u001b[0m\n\u001b[0m\u001b[1;32m   2676\u001b[0m         \u001b[0;32mreturn\u001b[0m \u001b[0mfetched\u001b[0m\u001b[0;34m[\u001b[0m\u001b[0;34m:\u001b[0m\u001b[0mlen\u001b[0m\u001b[0;34m(\u001b[0m\u001b[0mself\u001b[0m\u001b[0;34m.\u001b[0m\u001b[0moutputs\u001b[0m\u001b[0;34m)\u001b[0m\u001b[0;34m]\u001b[0m\u001b[0;34m\u001b[0m\u001b[0m\n\u001b[1;32m   2677\u001b[0m \u001b[0;34m\u001b[0m\u001b[0m\n",
      "\u001b[0;32m~/dev/kaggle/tc2/tc2/lib/python3.6/site-packages/tensorflow/python/client/session.py\u001b[0m in \u001b[0;36m__call__\u001b[0;34m(self, *args, **kwargs)\u001b[0m\n\u001b[1;32m   1437\u001b[0m           ret = tf_session.TF_SessionRunCallable(\n\u001b[1;32m   1438\u001b[0m               \u001b[0mself\u001b[0m\u001b[0;34m.\u001b[0m\u001b[0m_session\u001b[0m\u001b[0;34m.\u001b[0m\u001b[0m_session\u001b[0m\u001b[0;34m,\u001b[0m \u001b[0mself\u001b[0m\u001b[0;34m.\u001b[0m\u001b[0m_handle\u001b[0m\u001b[0;34m,\u001b[0m \u001b[0margs\u001b[0m\u001b[0;34m,\u001b[0m \u001b[0mstatus\u001b[0m\u001b[0;34m,\u001b[0m\u001b[0;34m\u001b[0m\u001b[0m\n\u001b[0;32m-> 1439\u001b[0;31m               run_metadata_ptr)\n\u001b[0m\u001b[1;32m   1440\u001b[0m         \u001b[0;32mif\u001b[0m \u001b[0mrun_metadata\u001b[0m\u001b[0;34m:\u001b[0m\u001b[0;34m\u001b[0m\u001b[0m\n\u001b[1;32m   1441\u001b[0m           \u001b[0mproto_data\u001b[0m \u001b[0;34m=\u001b[0m \u001b[0mtf_session\u001b[0m\u001b[0;34m.\u001b[0m\u001b[0mTF_GetBuffer\u001b[0m\u001b[0;34m(\u001b[0m\u001b[0mrun_metadata_ptr\u001b[0m\u001b[0;34m)\u001b[0m\u001b[0;34m\u001b[0m\u001b[0m\n",
      "\u001b[0;31mKeyboardInterrupt\u001b[0m: "
     ]
    }
   ],
   "source": [
    "han_model.compile(loss = 'binary_crossentropy', optimizer='adam', metrics=['acc'])\n",
    "han_model.fit_generator(generate_data(train_comment, trainy,256),  steps_per_epoch=len(train_comment)/256, epochs=10)"
   ]
  },
  {
   "cell_type": "code",
   "execution_count": 196,
   "metadata": {},
   "outputs": [],
   "source": [
    "han_predictions = han_model.predict(prepare_input(test_comment),batch_size=512)"
   ]
  },
  {
   "cell_type": "code",
   "execution_count": 197,
   "metadata": {},
   "outputs": [],
   "source": [
    "han_predictions[han_predictions>=0.5] = 1.0\n",
    "han_predictions[han_predictions<0.5] = 0."
   ]
  },
  {
   "cell_type": "code",
   "execution_count": 198,
   "metadata": {},
   "outputs": [
    {
     "name": "stdout",
     "output_type": "stream",
     "text": [
      "              precision    recall  f1-score   support\n",
      "\n",
      "           0       0.96      0.99      0.97     28907\n",
      "           1       0.83      0.64      0.72      3008\n",
      "\n",
      "   micro avg       0.95      0.95      0.95     31915\n",
      "   macro avg       0.89      0.81      0.85     31915\n",
      "weighted avg       0.95      0.95      0.95     31915\n",
      "\n"
     ]
    }
   ],
   "source": [
    "from sklearn.metrics import confusion_matrix, classification_report\n",
    "print(classification_report( testy,han_predictions))"
   ]
  },
  {
   "cell_type": "code",
   "execution_count": 203,
   "metadata": {},
   "outputs": [],
   "source": [
    "def prepare_han_model(han_model):\n",
    "    sent_hit_model = Model(han_model.input, han_model.layers[4].output)\n",
    "    return sent_hit_model, han_model.layers[5]"
   ]
  },
  {
   "cell_type": "code",
   "execution_count": 474,
   "metadata": {},
   "outputs": [],
   "source": [
    "def compute_attention_han(sent_hit_model, trained_attn, text,wordlen=40, sentlen=5, model=None):\n",
    "\n",
    "    text_seq = prepare_input([text], wordlen, sentlen)\n",
    "    sentences = sent_tokenize(text)\n",
    "    while len(sentences) < sentlen:\n",
    "        sentences.append(\"PADDED SENTENCES\")\n",
    "    \n",
    "    hit = sent_hit_model.predict(text_seq)\n",
    "    uit = np.tanh(np.dot(hit,trained_attn.get_weights()[0]) + trained_attn.get_weights()[1])\n",
    "    \n",
    "    alpha_it_num = np.squeeze(np.exp(np.dot( uit,trained_attn.get_weights()[2])),0)\n",
    "    alpha_it = alpha_it_num/np.sum(alpha_it_num)\n",
    "    \n",
    "    rank = np.argsort(alpha_it)[::-1]\n",
    "    print (\"Input Sentence:   {}\".format(text))\n",
    "    ranked_sentences = [(sentences[i],alpha_it[i]) for i in rank]\n",
    "    print (\"-\"*43+\"Sentence Scores\"+\"-\"*43)\n",
    "    for rsent in ranked_sentences:\n",
    "        print (\"{}  -> Score: {}\".format(rsent[0],rsent[1]))\n",
    "    print (\"-\"*100)\n",
    "\n",
    "    if model:\n",
    "        return model.predict(text_seq)"
   ]
  },
  {
   "cell_type": "code",
   "execution_count": 475,
   "metadata": {},
   "outputs": [],
   "source": [
    "sent_hit_model, sent_attn = prepare_han_model(han_model)"
   ]
  },
  {
   "cell_type": "code",
   "execution_count": 476,
   "metadata": {},
   "outputs": [
    {
     "name": "stdout",
     "output_type": "stream",
     "text": [
      "Input Sentence:   Why? \n",
      "\n",
      "Why is this page so zealously guarded .  .  .  by so many idiots? Never seen anything like it . ~\n",
      "-------------------------------------------Sentence Scores-------------------------------------------\n",
      "by so many idiots?  -> Score: 0.5817959308624268\n",
      ".  -> Score: 0.16015098989009857\n",
      "Why is this page so zealously guarded .  -> Score: 0.12911401689052582\n",
      ".  -> Score: 0.09135065972805023\n",
      "Why?  -> Score: 0.03758838400244713\n",
      "----------------------------------------------------------------------------------------------------\n",
      "Toxicity Confidence is 0.8409721255302429. The sentence is toxic\n"
     ]
    }
   ],
   "source": [
    "pred = compute_attention_han(sent_hit_model, sent_attn, correct_preds[0], 40,5,han_model)\n",
    "print (\"Toxicity Confidence is {}. The sentence is {}toxic\".format(pred[0][0], \"not \" if pred < 0.5 else \"\"))"
   ]
  },
  {
   "cell_type": "code",
   "execution_count": 477,
   "metadata": {},
   "outputs": [],
   "source": [
    "def prepare_word_attn_from_han_model(han_model):\n",
    "    han_word_model = Model(han_model.input, han_model.layers[2].output)\n",
    "    word_attn = han_model.layers[3]\n",
    "    return han_word_model, word_attn"
   ]
  },
  {
   "cell_type": "code",
   "execution_count": 478,
   "metadata": {},
   "outputs": [],
   "source": [
    "def compute_attention_han_wordlevel(han_word_model, word_attn, sent_hit_model, sent_attn, text,wordlen=40, sentlen=5, model=None):\n",
    "    sentences = sent_tokenize(text)\n",
    "    while len(sentences) < sentlen:\n",
    "        sentences.append(\"PADDED SENTENCES\")\n",
    "\n",
    "    text_seq = prepare_input([text], wordlen, sentlen)\n",
    "    word_hit = han_word_model.predict(text_seq)\n",
    "    word_hit = np.squeeze(word_hit, axis=0)\n",
    "    uit = np.tanh(np.dot(word_hit,word_attn.get_weights()[0]) + word_attn.get_weights()[1])\n",
    "\n",
    "    alpha_it_num = np.exp(np.dot( uit,word_attn.get_weights()[2]))\n",
    "    alpha_it = alpha_it_num/np.sum(alpha_it_num, axis=1, keepdims=True)\n",
    "\n",
    "    rank = np.argsort(alpha_it, axis=1)[::-1]\n",
    "    \n",
    "    words = []\n",
    "    for row in range(rank.shape[0]):\n",
    "        words.append([tokenizer.index_word[text_seq[0][row][i]] if text_seq[0][row][i] > 0 else \"*\" for i in rank[row]])\n",
    "    \n",
    "    compute_attention_han(sent_hit_model, sent_attn, text, wordlen,sentlen,model)\n",
    "    \n",
    "    print (\"-\"*43+\"Word Scores\"+\"-\"*43)\n",
    "    for sent in words:\n",
    "        print (\" > \".join(sent))\n",
    "    print (\"-\"*100)\n",
    "    if model:\n",
    "        return model.predict(text_seq)\n",
    "    "
   ]
  },
  {
   "cell_type": "code",
   "execution_count": 479,
   "metadata": {},
   "outputs": [],
   "source": [
    "han_word_model, word_attn = prepare_word_attn_from_han_model(han_model)"
   ]
  },
  {
   "cell_type": "code",
   "execution_count": 486,
   "metadata": {},
   "outputs": [
    {
     "name": "stdout",
     "output_type": "stream",
     "text": [
      "Input Sentence:   \"\"\"I want to be a fuck you . \"\"\n",
      "That's a song . \n",
      "\n",
      "\"\n",
      "-------------------------------------------Sentence Scores-------------------------------------------\n",
      "\"\"\"I want to be a fuck you . \"\"  -> Score: 0.8817136287689209\n",
      "That's a song . \n",
      "\n",
      "\"  -> Score: 0.03768691048026085\n",
      "PADDED SENTENCES  -> Score: 0.026866456493735313\n",
      "PADDED SENTENCES  -> Score: 0.026866456493735313\n",
      "PADDED SENTENCES  -> Score: 0.026866456493735313\n",
      "----------------------------------------------------------------------------------------------------\n",
      "-------------------------------------------Word Scores-------------------------------------------\n",
      "* > * > * > * > * > * > * > * > * > * > \"\"\"i > want > to > be > a > fuck > you > * > * > * > * > * > * > * > * > * > * > * > * > * > * > * > * > * > * > * > * > * > . > \"\"\n",
      "* > * > * > * > * > * > * > * > * > * > * > * > * > * > that's > a > song > * > * > * > * > * > * > * > * > * > * > * > * > * > * > * > * > * > * > * > * > * > . > \"\n",
      "* > * > * > * > * > * > * > * > * > * > * > * > * > * > * > * > * > * > * > * > * > * > * > * > * > * > * > * > * > * > * > * > * > * > * > * > * > * > * > *\n",
      "* > * > * > * > * > * > * > * > * > * > * > * > * > * > * > * > * > * > * > * > * > * > * > * > * > * > * > * > * > * > * > * > * > * > * > * > * > * > * > *\n",
      "* > * > * > * > * > * > * > * > * > * > * > * > * > * > * > * > * > * > * > * > * > * > * > * > * > * > * > * > * > * > * > * > * > * > * > * > * > * > * > *\n",
      "----------------------------------------------------------------------------------------------------\n",
      "Toxicity Confidence is 0.9999338388442993. The sentence is toxic\n"
     ]
    }
   ],
   "source": [
    "pred = compute_attention_han_wordlevel(han_word_model, word_attn,sent_hit_model, sent_attn, correct_preds[10], 40,5,han_model)\n",
    "print (\"Toxicity Confidence is {}. The sentence is {}toxic\".format(pred[0][0], \"not \" if pred < 0.5 else \"\"))"
   ]
  }
 ],
 "metadata": {
  "kernelspec": {
   "display_name": "Python 3",
   "language": "python",
   "name": "python3"
  },
  "language_info": {
   "codemirror_mode": {
    "name": "ipython",
    "version": 3
   },
   "file_extension": ".py",
   "mimetype": "text/x-python",
   "name": "python",
   "nbconvert_exporter": "python",
   "pygments_lexer": "ipython3",
   "version": "3.6.5"
  }
 },
 "nbformat": 4,
 "nbformat_minor": 1
}
